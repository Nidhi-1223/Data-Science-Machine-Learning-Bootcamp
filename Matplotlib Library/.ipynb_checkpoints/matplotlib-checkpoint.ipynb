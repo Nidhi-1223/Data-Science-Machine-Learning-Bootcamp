{
 "cells": [
  {
   "cell_type": "markdown",
   "metadata": {},
   "source": [
    "## Matplotlib Library\n",
    "\n",
    "- Matplotlib Importing\n",
    "- Two differnt ways to plot data\n",
    "    - Plotting data from Numpy Arrays\n",
    "    - Plotting data from pandas Dataframe\n",
    "- Customizing plots\n",
    "- Saving & sharing plots\n"
   ]
  },
  {
   "cell_type": "code",
   "execution_count": null,
   "metadata": {},
   "outputs": [],
   "source": [
    "%matplotlib inline\n",
    "import matplotlib.pyplot as plt\n",
    "import pandas as pd\n",
    "import numpy as np"
   ]
  },
  {
   "cell_type": "code",
   "execution_count": null,
   "metadata": {},
   "outputs": [],
   "source": [
    "plt.plot()"
   ]
  },
  {
   "cell_type": "code",
   "execution_count": null,
   "metadata": {},
   "outputs": [],
   "source": [
    "plt.plot(); #semicolon to get rid of that annoying bracket on the top"
   ]
  },
  {
   "cell_type": "code",
   "execution_count": null,
   "metadata": {},
   "outputs": [],
   "source": [
    "plt.plot()\n",
    "plt.show()  #gonna do the exact same thing without the bracket"
   ]
  },
  {
   "cell_type": "code",
   "execution_count": null,
   "metadata": {},
   "outputs": [],
   "source": [
    "x = [1,2,3,4]\n",
    "y = [11,22,33,44]\n",
    "plt.plot(x,y)\n",
    "plt.show()"
   ]
  },
  {
   "cell_type": "code",
   "execution_count": null,
   "metadata": {},
   "outputs": [],
   "source": [
    "#fig method - method 1\n",
    "fig = plt.figure()      #cretes a figure\n",
    "ax =fig.add_subplot()\n",
    "plt.show()"
   ]
  },
  {
   "cell_type": "code",
   "execution_count": null,
   "metadata": {},
   "outputs": [],
   "source": [
    "#2nd method\n",
    "fig = plt.figure()\n",
    "ax = fig.add_axes([1,1,1,1])\n",
    "ax.plot(x,y)    #adding some data\n",
    "plt.show()"
   ]
  },
  {
   "cell_type": "code",
   "execution_count": null,
   "metadata": {},
   "outputs": [],
   "source": [
    "#method 3 (recommended)\n",
    "fig, ax = plt.subplots()\n",
    "z = [11,22,34,56]\n",
    "ax.plot(x,z);\n",
    "type(fig), type(ax)"
   ]
  },
  {
   "cell_type": "markdown",
   "metadata": {},
   "source": [
    "![](matplotlib-anatomy-of-a-plot.png)"
   ]
  },
  {
   "cell_type": "markdown",
   "metadata": {},
   "source": [
    "![](matplotlib-anatomy-of-a-plot-with-code.png)"
   ]
  },
  {
   "cell_type": "markdown",
   "metadata": {},
   "source": [
    "## Matplotlib example workflow"
   ]
  },
  {
   "cell_type": "code",
   "execution_count": null,
   "metadata": {},
   "outputs": [],
   "source": [
    "# 0. import matplotlib and get it ready for plotting in Jupyter\n",
    "%matplotlib inline\n",
    "import matplotlib.pyplot as plt\n",
    "\n",
    "#1. prepare data\n",
    "x = [2,4,6,8]\n",
    "y = [12,79,42,92]\n",
    "\n",
    "#2. setup plot\n",
    "fig,ax = plt.subplots(figsize=(7,7))    #(width,height)\n",
    "\n",
    "#3. plot data\n",
    "ax.plot(x,y)\n",
    "\n",
    "#4. customize plot\n",
    "ax.set(title=\"Simple Plot\",\n",
    "        xlabel = \"x-axis\",\n",
    "        ylabel = \"y-axis\")\n",
    "\n",
    "#5. save and show figure\n",
    "fig.savefig(\"Assests/sample-plot-1.png\")"
   ]
  },
  {
   "cell_type": "markdown",
   "metadata": {},
   "source": [
    "## Making figures with Numpy Arrays\n",
    "we want : \n",
    "* Line plot\n",
    "* Scatter plot\n",
    "* Bar plot\n",
    "* Histogram\n",
    "* Subplot"
   ]
  },
  {
   "cell_type": "code",
   "execution_count": null,
   "metadata": {},
   "outputs": [],
   "source": [
    "#import numpy\n",
    "\n",
    "#create some data\n",
    "x = np.linspace(0,10,num=100)\n",
    "x"
   ]
  },
  {
   "cell_type": "code",
   "execution_count": null,
   "metadata": {},
   "outputs": [],
   "source": [
    "#plot the data and create a line plot\n",
    "fig,ax = plt.subplots(figsize=(7,7))\n",
    "ax.plot(x, x**2);"
   ]
  },
  {
   "cell_type": "code",
   "execution_count": null,
   "metadata": {},
   "outputs": [],
   "source": [
    "#use same data to make scatter plots\n",
    "fig,ax = plt.subplots()\n",
    "ax.scatter(x,np.sin(x));\n"
   ]
  },
  {
   "cell_type": "code",
   "execution_count": null,
   "metadata": {},
   "outputs": [],
   "source": [
    "#creating a plot directly from dictonary\n",
    "nut_butter_prices = {\"Almond Butter\" : 10,\n",
    "                     \"Peanut Butter\" : 8,\n",
    "                     \"Cashew Butter\" : 12}\n",
    "\n",
    "fig,ax = plt.subplots()\n",
    "ax.bar(nut_butter_prices.keys(), nut_butter_prices.values())\n",
    "ax.set(title=\"Bar plot\", xlabel=\"butter\", ylabel=\"prices\")"
   ]
  },
  {
   "cell_type": "code",
   "execution_count": null,
   "metadata": {},
   "outputs": [],
   "source": [
    "fig,ax = plt.subplots()\n",
    "ax.barh(list(nut_butter_prices.keys()), list(nut_butter_prices.values()));\n"
   ]
  },
  {
   "cell_type": "code",
   "execution_count": null,
   "metadata": {},
   "outputs": [],
   "source": [
    "x = np.random.randn(1000)\n",
    "fig, ax = plt.subplots()\n",
    "ax.hist(x)"
   ]
  },
  {
   "cell_type": "markdown",
   "metadata": {},
   "source": [
    "### Two options for subplots"
   ]
  },
  {
   "cell_type": "code",
   "execution_count": null,
   "metadata": {},
   "outputs": [],
   "source": [
    "#Subplot option 1\n",
    "fig, ((ax1,ax2),(ax3,ax4),(a3,a4)) = plt.subplots(nrows=3,ncols=2,figsize=(15,10))\n",
    "# plot to each different axis\n",
    "ax1.plot(x,x**2)\n",
    "ax2.scatter(np.random.random(10),np.random.random(10))\n",
    "ax3.bar(nut_butter_prices.keys(),nut_butter_prices.values())\n",
    "ax4.hist(np.random.randn(100))"
   ]
  },
  {
   "cell_type": "code",
   "execution_count": null,
   "metadata": {},
   "outputs": [],
   "source": [
    "# x = np.linspace(0,10,num=100)\n",
    "# fig,ax = plt.subplots()\n",
    "# ax.plot(x,x**2)\n"
   ]
  },
  {
   "cell_type": "code",
   "execution_count": null,
   "metadata": {},
   "outputs": [],
   "source": [
    "#option 2 for subplots\n",
    "fig, ax = plt.subplots(nrows=2,ncols=2,figsize=(10,5))\n",
    "ax[0,0].plot(x,x/2)\n",
    "ax[0,1].scatter(np.random.random(10), np.random.random(10))         #row - 0, column - 1\n",
    "ax[1,0].bar(nut_butter_prices.keys(), nut_butter_prices.values())\n",
    "ax[1,1].hist(np.random.randn(1000))"
   ]
  },
  {
   "cell_type": "markdown",
   "metadata": {},
   "source": [
    "## Plotting from Pandas Dataframe"
   ]
  },
  {
   "cell_type": "code",
   "execution_count": null,
   "metadata": {},
   "outputs": [],
   "source": [
    "import pandas as pd"
   ]
  },
  {
   "cell_type": "code",
   "execution_count": null,
   "metadata": {},
   "outputs": [],
   "source": [
    "car_sales = pd.read_csv(\"/home/hp1/Documents/College/Coding/Machine Learning/zero_to_mastery_course/csv/car-sales.csv\")\n",
    "car_sales"
   ]
  },
  {
   "cell_type": "code",
   "execution_count": null,
   "metadata": {},
   "outputs": [],
   "source": [
    "car_sales[\"Price\"] = car_sales[\"Price\"].str.replace('[\\$\\,\\.]','')\n",
    "car_sales"
   ]
  },
  {
   "cell_type": "code",
   "execution_count": null,
   "metadata": {},
   "outputs": [],
   "source": [
    "#Removing the extra zeros in the Price column\n",
    "car_sales[\"Price\"] = car_sales[\"Price\"].str[:-2]\n",
    "car_sales"
   ]
  },
  {
   "cell_type": "code",
   "execution_count": null,
   "metadata": {},
   "outputs": [],
   "source": [
    "#Reassign our price column to be integer\n",
    "car_sales[\"Price\"] = car_sales[\"Price\"].astype(int)\n",
    "type(car_sales[\"Price\"][0])"
   ]
  },
  {
   "cell_type": "code",
   "execution_count": null,
   "metadata": {},
   "outputs": [],
   "source": [
    "#adding an extra column called \"Sale Dates\" to the DataFrame\n",
    "car_sales[\"Sale Date\"] = pd.date_range(\"1/1/2022\", periods=len(car_sales))\n",
    "car_sales"
   ]
  },
  {
   "cell_type": "code",
   "execution_count": null,
   "metadata": {},
   "outputs": [],
   "source": [
    "car_sales[\"Total Sales\"] = car_sales[\"Price\"].cumsum()\n",
    "car_sales"
   ]
  },
  {
   "cell_type": "code",
   "execution_count": null,
   "metadata": {},
   "outputs": [],
   "source": [
    "#Lets plot the total sales - Method 1\n",
    "car_sales.plot(x=\"Sale Date\", y = \"Total Sales\");"
   ]
  },
  {
   "cell_type": "code",
   "execution_count": null,
   "metadata": {},
   "outputs": [],
   "source": [
    "car_sales.plot(x=\"Odometer (KM)\", y=\"Price\", kind=\"scatter\")"
   ]
  },
  {
   "cell_type": "markdown",
   "metadata": {},
   "source": [
    "#### Method 2"
   ]
  },
  {
   "cell_type": "code",
   "execution_count": null,
   "metadata": {},
   "outputs": [],
   "source": [
    "#Bar graph using some dummy data\n",
    "x = np.random.rand(10,4)\n",
    "x"
   ]
  },
  {
   "cell_type": "code",
   "execution_count": null,
   "metadata": {},
   "outputs": [],
   "source": [
    "#Turn it into a DataFrame\n",
    "df = pd.DataFrame(x, columns=[\"a\", \"b\", \"c\", \"d\"])\n",
    "df"
   ]
  },
  {
   "cell_type": "code",
   "execution_count": null,
   "metadata": {},
   "outputs": [],
   "source": [
    "df.plot.bar()"
   ]
  },
  {
   "cell_type": "code",
   "execution_count": null,
   "metadata": {},
   "outputs": [],
   "source": [
    "#this line of code also does the same thing\n",
    "df.plot(kind=\"bar\")"
   ]
  },
  {
   "cell_type": "code",
   "execution_count": null,
   "metadata": {},
   "outputs": [],
   "source": [
    "#Using the same methods to manipulate our car_sales dataframe\n",
    "car_sales.plot(x=\"Make\", y=\"Odometer (KM)\", kind= \"bar\")"
   ]
  },
  {
   "cell_type": "code",
   "execution_count": null,
   "metadata": {},
   "outputs": [],
   "source": [
    "#Plotting Histograms\n",
    "car_sales[\"Odometer (KM)\"].plot.hist(bins = 30)"
   ]
  },
  {
   "cell_type": "code",
   "execution_count": null,
   "metadata": {},
   "outputs": [],
   "source": [
    "car_sales[\"Odometer (KM)\"].plot(kind=\"hist\", bins= 20)"
   ]
  },
  {
   "cell_type": "markdown",
   "metadata": {},
   "source": [
    "### Trying out similar techniques on another Dataset"
   ]
  },
  {
   "cell_type": "code",
   "execution_count": null,
   "metadata": {},
   "outputs": [],
   "source": [
    "heart_disease = pd.read_csv(\"/home/hp1/Documents/College/Coding/Machine Learning/zero_to_mastery_course/csv/heart-disease.csv\")\n",
    "heart_disease.head()"
   ]
  },
  {
   "cell_type": "code",
   "execution_count": null,
   "metadata": {},
   "outputs": [],
   "source": [
    "#Create a histogram of the age\n",
    "heart_disease[\"age\"].plot.hist(bins = 50)"
   ]
  },
  {
   "cell_type": "code",
   "execution_count": null,
   "metadata": {},
   "outputs": [],
   "source": [
    "heart_disease.plot.hist(figsize= (10,30),subplots = True);"
   ]
  },
  {
   "cell_type": "markdown",
   "metadata": {},
   "source": [
    "### Which one should you use? (pyplot v/s the matplotlib OO method)\n",
    "- When plotting something quickly, it's okay to use the pyplot method\n",
    "- When plotting something advanced, use the OO method"
   ]
  },
  {
   "cell_type": "code",
   "execution_count": null,
   "metadata": {},
   "outputs": [],
   "source": [
    "heart_disease"
   ]
  },
  {
   "cell_type": "code",
   "execution_count": null,
   "metadata": {},
   "outputs": [],
   "source": [
    "over_50 = heart_disease[heart_disease[\"age\"]>50]\n",
    "over_50"
   ]
  },
  {
   "cell_type": "code",
   "execution_count": null,
   "metadata": {},
   "outputs": [],
   "source": [
    "over_50.head()"
   ]
  },
  {
   "cell_type": "code",
   "execution_count": null,
   "metadata": {},
   "outputs": [],
   "source": [
    "over_50.plot(kind=\"scatter\",x = \"age\", y= \"chol\",c= \"target\")       #this is the basic pyplot method"
   ]
  },
  {
   "cell_type": "code",
   "execution_count": null,
   "metadata": {},
   "outputs": [],
   "source": [
    "#OO method mixed with pyplot figure\n",
    "fig,ax = plt.subplots(figsize=(10,6))\n",
    "over_50.plot(kind='scatter',x= 'age', y= 'chol', c= 'target',ax=ax)\n",
    "# ax.set_xlim([45,100])\n"
   ]
  },
  {
   "cell_type": "code",
   "execution_count": null,
   "metadata": {},
   "outputs": [],
   "source": [
    "#OO method from sratch\n",
    "fig,ax = plt.subplots(figsize=(10,6))\n",
    "\n",
    "#plot the data\n",
    "scatter = ax.scatter(x=over_50['age'], y=over_50['chol'], c=over_50['target'])\n",
    "\n",
    "#customize the plot\n",
    "ax.set(title=\"Heart Disease & Cholestrol Levels\",xlabel='Age', ylabel='Cholestrol')\n",
    "\n",
    "#Add a legend\n",
    "ax.legend(*scatter.legend_elements(), title='Target')\n",
    "\n",
    "#Add a horizontal line\n",
    "ax.axhline(y=over_50['chol'].mean(), linestyle='--')"
   ]
  },
  {
   "cell_type": "code",
   "execution_count": null,
   "metadata": {},
   "outputs": [],
   "source": [
    "#Subplot with max heart rate (thalach column in the over)\n",
    "fig, (ax0,ax1) = plt.subplots(nrows=2,ncols=1, figsize= (10,10), sharex=True)\n",
    "#add data to ax0\n",
    "scatter = ax0.scatter(x=over_50[\"age\"],y=over_50[\"chol\"], c=over_50[\"target\"])\n",
    "#customize ax0\n",
    "ax0.set(title='Heart Disease & Cholestrol levels', ylabel='Cholestrol')\n",
    "#legend to ax0\n",
    "ax0.legend(*scatter.legend_elements(), title='Target')\n",
    "#Add a mean line\n",
    "ax0.axhline(y=over_50['chol'].mean(), linestyle= '--')\n",
    "\n",
    "\n",
    "#add data to ax1\n",
    "scatter = ax1.scatter(x=over_50[\"age\"],y=over_50[\"thalach\"], c=over_50[\"target\"])\n",
    "#customize ax0\n",
    "ax1.set(title='Heart Disease & Maximum Heart Rate', xlabel='Age', ylabel='Maximum Heart Rate')\n",
    "#legend to ax0\n",
    "ax1.legend(*scatter.legend_elements(), title='Target')\n",
    "#Add a mean line\n",
    "ax1.axhline(y=over_50['thalach'].mean(), linestyle= '--')\n",
    "\n",
    "# #add a title to the figure\n",
    "fig.suptitle(\"Heart Diseases Analysis\", fontsize= 16, fontweight= 'bold')"
   ]
  },
  {
   "cell_type": "markdown",
   "metadata": {},
   "source": [
    "### learning to customize the plots a little better\n"
   ]
  },
  {
   "cell_type": "code",
   "execution_count": null,
   "metadata": {},
   "outputs": [],
   "source": [
    "plt.style.available"
   ]
  },
  {
   "cell_type": "code",
   "execution_count": null,
   "metadata": {},
   "outputs": [],
   "source": [
    "#default style\n",
    "car_sales[\"Price\"].plot()"
   ]
  },
  {
   "cell_type": "code",
   "execution_count": null,
   "metadata": {},
   "outputs": [],
   "source": [
    "plt.style.use('seaborn-whitegrid')\n",
    "car_sales['Price'].plot()"
   ]
  },
  {
   "cell_type": "code",
   "execution_count": null,
   "metadata": {},
   "outputs": [],
   "source": [
    "plt.style.available"
   ]
  },
  {
   "cell_type": "code",
   "execution_count": null,
   "metadata": {},
   "outputs": [],
   "source": [
    "# plt.style.use('seaborn')\n",
    "plt.style.use('seaborn-notebook') #- this is nice\n",
    "# # plt.style.use('seaborn-colorblind')\n",
    "car_sales[\"Price\"].plot()"
   ]
  },
  {
   "cell_type": "code",
   "execution_count": null,
   "metadata": {},
   "outputs": [],
   "source": [
    "#Creating some dummy data\n",
    "x = np.random.randn(10,4)\n",
    "x"
   ]
  },
  {
   "cell_type": "code",
   "execution_count": null,
   "metadata": {},
   "outputs": [],
   "source": [
    "df = pd.DataFrame(x, columns=['a', 'b', 'c', 'd'])\n",
    "df"
   ]
  },
  {
   "cell_type": "code",
   "execution_count": null,
   "metadata": {},
   "outputs": [],
   "source": [
    "df.plot(kind='bar')"
   ]
  },
  {
   "cell_type": "code",
   "execution_count": null,
   "metadata": {},
   "outputs": [],
   "source": [
    "#customize this plot with the set() method\n",
    "ax= df.plot(kind= 'bar')\n",
    "ax.set(title='Random Numbers Bar Graph', xlabel='rows', ylabel='random numbers')\n",
    "# ax.legend().set_visible(True)"
   ]
  },
  {
   "cell_type": "code",
   "execution_count": null,
   "metadata": {},
   "outputs": [],
   "source": [
    "#################### customizing that subplot####################################\n",
    "'''\n",
    "new attributes added - \n",
    "cmap\n",
    "set_xlim, set_ylim\n",
    "\n",
    "'''\n",
    "\n",
    "#Subplot with max heart rate (thalach column in the over)\n",
    "fig, (ax0,ax1) = plt.subplots(nrows=2,ncols=1, figsize= (10,10), sharex=True)\n",
    "#add data to ax0\n",
    "scatter = ax0.scatter(x=over_50[\"age\"],y=over_50[\"chol\"], c=over_50[\"target\"],cmap='winter')\n",
    "#customize ax0\n",
    "ax0.set(title='Heart Disease & Cholestrol levels', ylabel='Cholestrol')\n",
    "ax0.set_xlim([50,80])\n",
    "#legend to ax0\n",
    "ax0.legend(*scatter.legend_elements(), title='Target')\n",
    "#Add a mean line\n",
    "ax0.axhline(y=over_50['chol'].mean(), linestyle= '--')\n",
    "\n",
    "\n",
    "#add data to ax1\n",
    "scatter = ax1.scatter(x=over_50[\"age\"],y=over_50[\"thalach\"], c=over_50[\"target\"],cmap='winter')\n",
    "#customize ax0\n",
    "ax1.set(title='Heart Disease & Maximum Heart Rate', xlabel='Age', ylabel='Maximum Heart Rate')\n",
    "ax1.set_ylim([60,200])\n",
    "#legend to ax0\n",
    "ax1.legend(*scatter.legend_elements(), title='Target')\n",
    "#Add a mean line\n",
    "ax1.axhline(y=over_50['thalach'].mean(), linestyle= '--')\n",
    "\n",
    "#add a title to the figure\n",
    "fig.suptitle(\"Heart Diseases Analysis\", fontsize= 16, fontweight= 'bold')\n"
   ]
  },
  {
   "cell_type": "code",
   "execution_count": null,
   "metadata": {},
   "outputs": [],
   "source": [
    "fig.savefig(\"Assests/Heart-Disease-Analysis-saved-with-code.png\")"
   ]
  }
 ],
 "metadata": {
  "kernelspec": {
   "display_name": "Python 3 (ipykernel)",
   "language": "python",
   "name": "python3"
  },
  "language_info": {
   "codemirror_mode": {
    "name": "ipython",
    "version": 3
   },
   "file_extension": ".py",
   "mimetype": "text/x-python",
   "name": "python",
   "nbconvert_exporter": "python",
   "pygments_lexer": "ipython3",
   "version": "3.10.6"
  },
  "vscode": {
   "interpreter": {
    "hash": "916dbcbb3f70747c44a77c7bcd40155683ae19c65e1c03b4aa3499c5328201f1"
   }
  }
 },
 "nbformat": 4,
 "nbformat_minor": 2
}
