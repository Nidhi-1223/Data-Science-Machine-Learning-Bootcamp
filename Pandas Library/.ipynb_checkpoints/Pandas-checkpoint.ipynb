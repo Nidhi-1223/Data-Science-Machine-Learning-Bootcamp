{
 "cells": [
  {
   "cell_type": "markdown",
   "id": "2fe19a91",
   "metadata": {},
   "source": [
    "# Introduction to pandas\n",
    "<b>Contents</b>\n",
    "- Most useful functions\n",
    "- pandas Datatypes\n",
    "- Importing & Exporting Data\n",
    "- Describing data\n",
    "- viewing & selecting data\n",
    "- manipulating data"
   ]
  },
  {
   "cell_type": "code",
   "execution_count": null,
   "id": "73a6a756",
   "metadata": {},
   "outputs": [],
   "source": [
    "import pandas as pd"
   ]
  },
  {
   "cell_type": "markdown",
   "id": "74d06ed8",
   "metadata": {},
   "source": [
    "## 2 main datatypes\n",
    "\n",
    "- Series = 1 dimensional\n",
    "- DataFrame = 2 dimensional"
   ]
  },
  {
   "cell_type": "code",
   "execution_count": null,
   "id": "a4c4ffa8",
   "metadata": {},
   "outputs": [],
   "source": [
    "#series\n",
    "cars = pd.Series([\"BMW\", \"Toyota\", \"Honda\"])"
   ]
  },
  {
   "cell_type": "code",
   "execution_count": null,
   "id": "160e41bd",
   "metadata": {},
   "outputs": [],
   "source": [
    "cars"
   ]
  },
  {
   "cell_type": "code",
   "execution_count": null,
   "id": "8f64e397",
   "metadata": {},
   "outputs": [],
   "source": [
    "colours = pd.Series([\"Red\", \"Blue\", \"Black\"])"
   ]
  },
  {
   "cell_type": "code",
   "execution_count": null,
   "id": "dbb335b7",
   "metadata": {},
   "outputs": [],
   "source": [
    "colours"
   ]
  },
  {
   "cell_type": "code",
   "execution_count": null,
   "id": "f330da95",
   "metadata": {},
   "outputs": [],
   "source": [
    "#data-frame\n",
    "car_data = pd.DataFrame({\"Car make\":cars, \"Colour\":colours})"
   ]
  },
  {
   "cell_type": "code",
   "execution_count": null,
   "id": "d3271a7d",
   "metadata": {},
   "outputs": [],
   "source": [
    "car_data"
   ]
  },
  {
   "cell_type": "markdown",
   "id": "db11bf9b",
   "metadata": {},
   "source": [
    " ### Import data in the form of a dataframe \n",
    " - importing from csv\n",
    " - importing from url\n",
    " - exporting"
   ]
  },
  {
   "cell_type": "code",
   "execution_count": null,
   "id": "0abf689e",
   "metadata": {},
   "outputs": [],
   "source": [
    "car_sales = pd.read_csv(\"car-sales.csv\")"
   ]
  },
  {
   "cell_type": "code",
   "execution_count": null,
   "id": "a817f988",
   "metadata": {},
   "outputs": [],
   "source": [
    "car_sales"
   ]
  },
  {
   "cell_type": "markdown",
   "id": "5dd6c5de",
   "metadata": {},
   "source": [
    "### Exporting the dataframe"
   ]
  },
  {
   "cell_type": "code",
   "execution_count": null,
   "id": "59c93aa0",
   "metadata": {},
   "outputs": [],
   "source": [
    "car_sales.to_csv(\"exported-car-sales.csv\",index=False)"
   ]
  },
  {
   "cell_type": "markdown",
   "id": "d7a74d23",
   "metadata": {},
   "source": [
    "## Anatomy of a DataFrame"
   ]
  },
  {
   "cell_type": "markdown",
   "id": "f4a65d12",
   "metadata": {},
   "source": [
    "![](pandas-anatomy-of-a-dataframe.png)"
   ]
  },
  {
   "cell_type": "code",
   "execution_count": null,
   "id": "89b98bef",
   "metadata": {},
   "outputs": [],
   "source": [
    "#importing from a url\n",
    "heart_disease = pd.read_csv(\"https://raw.githubusercontent.com/mrdbourke/zero-to-mastery-ml/master/data/heart-disease.csv\")"
   ]
  },
  {
   "cell_type": "code",
   "execution_count": null,
   "id": "d423fea4",
   "metadata": {},
   "outputs": [],
   "source": [
    "heart_disease"
   ]
  },
  {
   "cell_type": "markdown",
   "id": "6130f393",
   "metadata": {},
   "source": [
    "## Describing Data\n",
    "<b>Attributes (the one without the brackets)</b>\n",
    "- dtypes\n",
    "- columns\n",
    "- index\n",
    "\n",
    "<b>Functions(the one with brackets)</b>\n",
    "- describe()\n",
    "- info()\n",
    "- mean()\n",
    "- sum()\n",
    "- len(name of the dataframe)"
   ]
  },
  {
   "cell_type": "code",
   "execution_count": null,
   "id": "f1942124",
   "metadata": {},
   "outputs": [],
   "source": [
    "car_sales.dtypes \n",
    "#here, dtypes is an attribute"
   ]
  },
  {
   "cell_type": "code",
   "execution_count": null,
   "id": "253daa22",
   "metadata": {},
   "outputs": [],
   "source": [
    "car_sales.columns\n"
   ]
  },
  {
   "cell_type": "code",
   "execution_count": null,
   "id": "f8710784",
   "metadata": {},
   "outputs": [],
   "source": [
    "car_sales.index"
   ]
  },
  {
   "cell_type": "code",
   "execution_count": null,
   "id": "78f0808a",
   "metadata": {},
   "outputs": [],
   "source": [
    "car_sales.describe()\n",
    "#here describe() is a function"
   ]
  },
  {
   "cell_type": "code",
   "execution_count": null,
   "id": "1a55a4e8",
   "metadata": {},
   "outputs": [],
   "source": [
    "car_sales.info()"
   ]
  },
  {
   "cell_type": "code",
   "execution_count": null,
   "id": "7617ca7f",
   "metadata": {},
   "outputs": [],
   "source": [
    "car_sales.mean()"
   ]
  },
  {
   "cell_type": "code",
   "execution_count": null,
   "id": "096944c9",
   "metadata": {},
   "outputs": [],
   "source": [
    "#car_sales.Doors.mean()\n",
    "car_sales[\"Doors\"].mean()"
   ]
  },
  {
   "cell_type": "code",
   "execution_count": null,
   "id": "f181cd3a",
   "metadata": {},
   "outputs": [],
   "source": [
    "car_prices = pd.Series([3000,1500,111250])\n",
    "car_prices.mean()"
   ]
  },
  {
   "cell_type": "code",
   "execution_count": null,
   "id": "e6cd11dd",
   "metadata": {},
   "outputs": [],
   "source": [
    "car_sales[\"Doors\"].sum()"
   ]
  },
  {
   "cell_type": "code",
   "execution_count": null,
   "id": "923f08af",
   "metadata": {},
   "outputs": [],
   "source": [
    "len(car_sales)"
   ]
  },
  {
   "cell_type": "markdown",
   "id": "96903db4",
   "metadata": {},
   "source": [
    "## Viewing and Selecting data\n",
    "- head()\n",
    "- tail()\n",
    "- .loc() & slicing with it\n",
    "- .iloc() & slicing with it\n",
    "- selecting a column (with and without a filter)"
   ]
  },
  {
   "cell_type": "code",
   "execution_count": null,
   "id": "5ad1d6df",
   "metadata": {},
   "outputs": [],
   "source": [
    "car_sales.head()"
   ]
  },
  {
   "cell_type": "code",
   "execution_count": null,
   "id": "4c8ae38a",
   "metadata": {},
   "outputs": [],
   "source": [
    "car_sales\n"
   ]
  },
  {
   "cell_type": "code",
   "execution_count": null,
   "id": "6e325b72",
   "metadata": {},
   "outputs": [],
   "source": [
    "car_sales.tail()"
   ]
  },
  {
   "cell_type": "markdown",
   "id": "acfc7567",
   "metadata": {},
   "source": [
    "<b> .loc and .iloc </b>"
   ]
  },
  {
   "cell_type": "code",
   "execution_count": null,
   "id": "aa12cf79",
   "metadata": {},
   "outputs": [],
   "source": [
    "animals = pd.Series([\"cat\", \"dog\", \"mouse\",\"panda\",\"snake\"], index= [0,3,9,8,3])"
   ]
  },
  {
   "cell_type": "code",
   "execution_count": null,
   "id": "7c2213fa",
   "metadata": {},
   "outputs": [],
   "source": [
    "animals"
   ]
  },
  {
   "cell_type": "code",
   "execution_count": null,
   "id": "0e57bb95",
   "metadata": {},
   "outputs": [],
   "source": [
    "animals.loc[3]\n",
    "#loc stands for location. basically the index number"
   ]
  },
  {
   "cell_type": "code",
   "execution_count": null,
   "id": "07f3482f",
   "metadata": {},
   "outputs": [],
   "source": [
    "car_sales.loc[3]"
   ]
  },
  {
   "cell_type": "code",
   "execution_count": null,
   "id": "d5610e99",
   "metadata": {},
   "outputs": [],
   "source": [
    "animals.iloc[3]\n",
    "#iloc refers to position"
   ]
  },
  {
   "cell_type": "code",
   "execution_count": null,
   "id": "c28c476d",
   "metadata": {},
   "outputs": [],
   "source": [
    "car_sales.iloc[3]"
   ]
  },
  {
   "cell_type": "markdown",
   "id": "fe004a8c",
   "metadata": {},
   "source": [
    "<b> with loc and iloc we can use slicing</b>"
   ]
  },
  {
   "cell_type": "code",
   "execution_count": null,
   "id": "aaff89a8",
   "metadata": {},
   "outputs": [],
   "source": [
    "animals.iloc[:3]\n",
    "#gives position upto 3"
   ]
  },
  {
   "cell_type": "code",
   "execution_count": null,
   "id": "cbb8bfcd",
   "metadata": {},
   "outputs": [],
   "source": [
    "car_sales.loc[:3]"
   ]
  },
  {
   "cell_type": "code",
   "execution_count": null,
   "id": "25f187f6",
   "metadata": {},
   "outputs": [],
   "source": [
    "#selecting a particular column\n",
    "car_sales[\"Make\"]"
   ]
  },
  {
   "cell_type": "code",
   "execution_count": null,
   "id": "527ddd72",
   "metadata": {},
   "outputs": [],
   "source": [
    "car_sales.Make #does the same thing as the previous block\n",
    "\n",
    "#If your column name has space in it then the dot notation wont work. Lets try it with the column \"Odometer (KM)\""
   ]
  },
  {
   "cell_type": "code",
   "execution_count": null,
   "id": "2c563280",
   "metadata": {},
   "outputs": [],
   "source": [
    "#car_sales.Odometer (KM)"
   ]
  },
  {
   "cell_type": "code",
   "execution_count": null,
   "id": "de4af13c",
   "metadata": {},
   "outputs": [],
   "source": [
    "car_sales[\"Odometer (KM)\"]"
   ]
  },
  {
   "cell_type": "code",
   "execution_count": null,
   "id": "1b736628",
   "metadata": {},
   "outputs": [],
   "source": [
    "#selecting a column with a filter\n",
    "car_sales[car_sales[\"Make\"] == \"Toyota\"]"
   ]
  },
  {
   "cell_type": "code",
   "execution_count": null,
   "id": "8ee82fa8",
   "metadata": {},
   "outputs": [],
   "source": [
    "car_sales[car_sales[\"Odometer (KM)\"]>100000]"
   ]
  },
  {
   "cell_type": "code",
   "execution_count": null,
   "id": "b698d741",
   "metadata": {},
   "outputs": [],
   "source": [
    "car_sales\n"
   ]
  },
  {
   "cell_type": "markdown",
   "id": "09d4aa26",
   "metadata": {},
   "source": [
    "## Comparing 2 Columns\n",
    "- crosstab() \n",
    "    - can compare the two given columns\n",
    "- groupby() \n",
    "    - can be used to compare more than 2 columns - basically compares all the numeric columns with the given column"
   ]
  },
  {
   "cell_type": "code",
   "execution_count": null,
   "id": "6dc41f9e",
   "metadata": {},
   "outputs": [],
   "source": [
    "pd.crosstab(car_sales[\"Make\"], car_sales[\"Doors\"])         \n",
    "#only good for comparing 2 colums"
   ]
  },
  {
   "cell_type": "code",
   "execution_count": null,
   "id": "1cd56f63",
   "metadata": {},
   "outputs": [],
   "source": [
    "#pd.crosstab(car_sales[\"Make\"], car_sales[\"Doors\"], car_sales[\"Price\"])  #gonna throw an erro"
   ]
  },
  {
   "cell_type": "code",
   "execution_count": null,
   "id": "404afec8",
   "metadata": {},
   "outputs": [],
   "source": [
    "#groupby\n",
    "car_sales.groupby([\"Make\"]).mean()"
   ]
  },
  {
   "cell_type": "code",
   "execution_count": null,
   "id": "45bdfc0d",
   "metadata": {},
   "outputs": [],
   "source": [
    "car_sales.groupby([\"Doors\"]).mean()"
   ]
  },
  {
   "cell_type": "code",
   "execution_count": null,
   "id": "35bf9410",
   "metadata": {},
   "outputs": [],
   "source": [
    "car_sales.groupby([\"Colour\"]).mean()"
   ]
  },
  {
   "cell_type": "markdown",
   "id": "5a4a8a71",
   "metadata": {},
   "source": [
    "## Visualising Data\n",
    "- .plot()\n",
    "- .hist()"
   ]
  },
  {
   "cell_type": "code",
   "execution_count": null,
   "id": "0e0a1f3a",
   "metadata": {},
   "outputs": [],
   "source": [
    "car_sales[\"Odometer (KM)\"].plot()"
   ]
  },
  {
   "cell_type": "code",
   "execution_count": null,
   "id": "8b78b323",
   "metadata": {},
   "outputs": [],
   "source": [
    "#if your plot doesnt show up then run - \n",
    "    # %matplotlib inline\n",
    "    # import matplotlib.pyplot as plt"
   ]
  },
  {
   "cell_type": "code",
   "execution_count": null,
   "id": "3b5d106d",
   "metadata": {},
   "outputs": [],
   "source": [
    "car_sales[\"Odometer (KM)\"].hist()"
   ]
  },
  {
   "cell_type": "markdown",
   "id": "5984a18c",
   "metadata": {},
   "source": [
    "<b>\n",
    "We know that our price column is not a numeric column i.e. if you look at the datatype of the column, its gonna come out to be 'object' instead of 'integer'\n",
    "here's how you will convert a non numeric column to numeric\n",
    "</b>"
   ]
  },
  {
   "cell_type": "code",
   "execution_count": null,
   "id": "a31bc9f5",
   "metadata": {},
   "outputs": [],
   "source": [
    "car_sales[\"Price\"] = car_sales[\"Price\"].str.replace('[\\$\\,]','',regex= True).astype(float)"
   ]
  },
  {
   "cell_type": "code",
   "execution_count": null,
   "id": "d0942d99",
   "metadata": {},
   "outputs": [],
   "source": [
    "car_sales[\"Price\"].dtype"
   ]
  },
  {
   "cell_type": "code",
   "execution_count": null,
   "id": "4b17d782",
   "metadata": {},
   "outputs": [],
   "source": [
    "car_sales.Price.plot()"
   ]
  },
  {
   "cell_type": "code",
   "execution_count": null,
   "id": "7769580f",
   "metadata": {},
   "outputs": [],
   "source": [
    "car_sales"
   ]
  },
  {
   "cell_type": "markdown",
   "id": "c15be43b",
   "metadata": {},
   "source": [
    "## Manipulating Data\n",
    "- Handling Missing data\n",
    "- Adding a new column\n",
    "    - Creating a column using pandas Series\n",
    "    - Creating a column using python lists\n",
    "    - Creating a column using a single value\n",
    "- Sampling the dataset\n",
    "- Performing functions on a column"
   ]
  },
  {
   "cell_type": "code",
   "execution_count": null,
   "id": "a13fc04f",
   "metadata": {},
   "outputs": [],
   "source": [
    "car_sales[\"Make\"].str.lower()"
   ]
  },
  {
   "cell_type": "code",
   "execution_count": null,
   "id": "5c94c8b0",
   "metadata": {},
   "outputs": [],
   "source": [
    "car_sales[\"Make\"] = car_sales[\"Make\"].str.lower()"
   ]
  },
  {
   "cell_type": "code",
   "execution_count": null,
   "id": "73a307d1",
   "metadata": {},
   "outputs": [],
   "source": [
    "car_sales"
   ]
  },
  {
   "cell_type": "code",
   "execution_count": null,
   "id": "f5cce7f3",
   "metadata": {},
   "outputs": [],
   "source": [
    "car_sales_missing = pd.read_csv('car-sales-missing-data.csv')\n",
    "car_sales_missing"
   ]
  },
  {
   "cell_type": "code",
   "execution_count": null,
   "id": "50d7d13d",
   "metadata": {},
   "outputs": [],
   "source": [
    "car_sales_missing[\"Odometer\"].fillna(car_sales_missing[\"Odometer\"].mean())"
   ]
  },
  {
   "cell_type": "code",
   "execution_count": null,
   "id": "2a804f79",
   "metadata": {},
   "outputs": [],
   "source": [
    "car_sales_missing"
   ]
  },
  {
   "cell_type": "code",
   "execution_count": null,
   "id": "e0a4ccee",
   "metadata": {},
   "outputs": [],
   "source": [
    "#here as you can see the missing values arent updated. Thats where the 'inplace' attribute comes in the picture\n",
    "car_sales_missing[\"Odometer\"].fillna(car_sales_missing[\"Odometer\"].mean(),inplace=True)"
   ]
  },
  {
   "cell_type": "code",
   "execution_count": null,
   "id": "ccc807dd",
   "metadata": {},
   "outputs": [],
   "source": [
    "car_sales_missing"
   ]
  },
  {
   "cell_type": "code",
   "execution_count": null,
   "id": "ecfa5313",
   "metadata": {},
   "outputs": [],
   "source": [
    "car_sales_missing_dropped = car_sales_missing.dropna()\n"
   ]
  },
  {
   "cell_type": "code",
   "execution_count": null,
   "id": "206c65d6",
   "metadata": {},
   "outputs": [],
   "source": [
    "car_sales_missing_dropped"
   ]
  },
  {
   "cell_type": "code",
   "execution_count": null,
   "id": "a5aa035b",
   "metadata": {},
   "outputs": [],
   "source": [
    "car_sales_missing_dropped.to_csv('car-sales')"
   ]
  },
  {
   "cell_type": "code",
   "execution_count": null,
   "id": "a90cd236",
   "metadata": {},
   "outputs": [],
   "source": [
    "car_sales_missing = pd.read_csv('car-sales-missing-data.csv')\n",
    "car_sales_missing"
   ]
  },
  {
   "cell_type": "markdown",
   "id": "41e0fc75",
   "metadata": {},
   "source": [
    "### Creating a column using pandas Series\n",
    "Here the size of the column(or the new series) doesnt have to be the same as the size of the dataframe"
   ]
  },
  {
   "cell_type": "code",
   "execution_count": null,
   "id": "2cca276e",
   "metadata": {},
   "outputs": [],
   "source": [
    "#creating a column using pandas Series\n",
    "seats_column = pd.Series([5,5,5,5,5])"
   ]
  },
  {
   "cell_type": "code",
   "execution_count": null,
   "id": "e65cb8fd",
   "metadata": {},
   "outputs": [],
   "source": [
    "car_sales[\"Seats\"] = seats_column"
   ]
  },
  {
   "cell_type": "code",
   "execution_count": null,
   "id": "38e9d844",
   "metadata": {},
   "outputs": [],
   "source": [
    "car_sales"
   ]
  },
  {
   "cell_type": "code",
   "execution_count": null,
   "id": "4a009259",
   "metadata": {},
   "outputs": [],
   "source": [
    "car_sales[\"Seats\"].fillna(5,inplace=True)"
   ]
  },
  {
   "cell_type": "code",
   "execution_count": null,
   "id": "db50a629",
   "metadata": {},
   "outputs": [],
   "source": [
    "car_sales\n"
   ]
  },
  {
   "cell_type": "markdown",
   "id": "ed84946a",
   "metadata": {},
   "source": [
    "### Creating a column using python lists\n",
    "Here the size of the list has to be the same as the size of the dataframe or it will throw error"
   ]
  },
  {
   "cell_type": "code",
   "execution_count": null,
   "id": "94b66641",
   "metadata": {},
   "outputs": [],
   "source": [
    "#Creating a column using python lists\n",
    "fuel_economy = [7.5,6.8,9.0,8.9,8.2,7.9,9.0,8.1,6.8,7.7]"
   ]
  },
  {
   "cell_type": "code",
   "execution_count": null,
   "id": "8cb60491",
   "metadata": {},
   "outputs": [],
   "source": [
    "car_sales[\"Fuel per 100 KM\"] = fuel_economy"
   ]
  },
  {
   "cell_type": "code",
   "execution_count": null,
   "id": "834d31e8",
   "metadata": {},
   "outputs": [],
   "source": [
    "car_sales"
   ]
  },
  {
   "cell_type": "markdown",
   "id": "69906cb4",
   "metadata": {},
   "source": [
    "\n",
    "Now let's create a new column thats gonna show the amount of fuel used by a car in it's entire lifetime <br>\n",
    "For that we'll divide the (odometer) column by 100 and divide it by (fuel per 100 km) column\n",
    "\n"
   ]
  },
  {
   "cell_type": "code",
   "execution_count": null,
   "id": "d8ae084f",
   "metadata": {},
   "outputs": [],
   "source": [
    "car_sales[\"Total Fuel used in Litres\"] = car_sales[\"Odometer (KM)\"]/100 * car_sales[\"Fuel per 100 KM\"]"
   ]
  },
  {
   "cell_type": "code",
   "execution_count": null,
   "id": "1737cfd7",
   "metadata": {},
   "outputs": [],
   "source": [
    "car_sales\n"
   ]
  },
  {
   "cell_type": "markdown",
   "id": "f3e4f842",
   "metadata": {},
   "source": [
    "### Creating a column from a single value"
   ]
  },
  {
   "cell_type": "code",
   "execution_count": null,
   "id": "801938ef",
   "metadata": {},
   "outputs": [],
   "source": [
    "car_sales[\"Number of wheels\"] = 4"
   ]
  },
  {
   "cell_type": "code",
   "execution_count": null,
   "id": "5cc1206e",
   "metadata": {},
   "outputs": [],
   "source": [
    "car_sales"
   ]
  },
  {
   "cell_type": "code",
   "execution_count": null,
   "id": "3bfd7a7d",
   "metadata": {},
   "outputs": [],
   "source": [
    "'''\n",
    "if you wish to drop some columns use - \n",
    "car_sales.drop(\"Doors\", axis=1, inplace=True)\n",
    "\n",
    "here, axis=1 denotes the column(refer the anatomy of pandas dataframe png)\n",
    "\n",
    "'''"
   ]
  },
  {
   "cell_type": "code",
   "execution_count": null,
   "id": "44b53031",
   "metadata": {},
   "outputs": [],
   "source": [
    "car_sales.to_csv('car-sales-new-columns.csv', index=False)"
   ]
  },
  {
   "cell_type": "markdown",
   "id": "dedd3f80",
   "metadata": {},
   "source": [
    "## Sampling methods\n",
    "Dividing and shuffling the dataset\n"
   ]
  },
  {
   "cell_type": "code",
   "execution_count": 100,
   "id": "8af12fe4",
   "metadata": {},
   "outputs": [
    {
     "data": {
      "text/html": [
       "<div>\n",
       "<style scoped>\n",
       "    .dataframe tbody tr th:only-of-type {\n",
       "        vertical-align: middle;\n",
       "    }\n",
       "\n",
       "    .dataframe tbody tr th {\n",
       "        vertical-align: top;\n",
       "    }\n",
       "\n",
       "    .dataframe thead th {\n",
       "        text-align: right;\n",
       "    }\n",
       "</style>\n",
       "<table border=\"1\" class=\"dataframe\">\n",
       "  <thead>\n",
       "    <tr style=\"text-align: right;\">\n",
       "      <th></th>\n",
       "      <th>Make</th>\n",
       "      <th>Colour</th>\n",
       "      <th>Odometer (KM)</th>\n",
       "      <th>Doors</th>\n",
       "      <th>Price</th>\n",
       "      <th>Seats</th>\n",
       "      <th>Fuel per 100 KM</th>\n",
       "      <th>Total Fuel used in Litres</th>\n",
       "      <th>Number of wheels</th>\n",
       "    </tr>\n",
       "  </thead>\n",
       "  <tbody>\n",
       "    <tr>\n",
       "      <th>2</th>\n",
       "      <td>toyota</td>\n",
       "      <td>Blue</td>\n",
       "      <td>32549</td>\n",
       "      <td>3</td>\n",
       "      <td>7000.0</td>\n",
       "      <td>5.0</td>\n",
       "      <td>9.0</td>\n",
       "      <td>2929.410</td>\n",
       "      <td>4</td>\n",
       "    </tr>\n",
       "    <tr>\n",
       "      <th>8</th>\n",
       "      <td>toyota</td>\n",
       "      <td>White</td>\n",
       "      <td>60000</td>\n",
       "      <td>4</td>\n",
       "      <td>6250.0</td>\n",
       "      <td>5.0</td>\n",
       "      <td>6.8</td>\n",
       "      <td>4080.000</td>\n",
       "      <td>4</td>\n",
       "    </tr>\n",
       "    <tr>\n",
       "      <th>7</th>\n",
       "      <td>honda</td>\n",
       "      <td>Blue</td>\n",
       "      <td>54738</td>\n",
       "      <td>4</td>\n",
       "      <td>7000.0</td>\n",
       "      <td>5.0</td>\n",
       "      <td>8.1</td>\n",
       "      <td>4433.778</td>\n",
       "      <td>4</td>\n",
       "    </tr>\n",
       "    <tr>\n",
       "      <th>1</th>\n",
       "      <td>honda</td>\n",
       "      <td>Red</td>\n",
       "      <td>87899</td>\n",
       "      <td>4</td>\n",
       "      <td>5000.0</td>\n",
       "      <td>5.0</td>\n",
       "      <td>6.8</td>\n",
       "      <td>5977.132</td>\n",
       "      <td>4</td>\n",
       "    </tr>\n",
       "    <tr>\n",
       "      <th>9</th>\n",
       "      <td>nissan</td>\n",
       "      <td>White</td>\n",
       "      <td>31600</td>\n",
       "      <td>4</td>\n",
       "      <td>9700.0</td>\n",
       "      <td>5.0</td>\n",
       "      <td>7.7</td>\n",
       "      <td>2433.200</td>\n",
       "      <td>4</td>\n",
       "    </tr>\n",
       "  </tbody>\n",
       "</table>\n",
       "</div>"
      ],
      "text/plain": [
       "     Make Colour  Odometer (KM)  Doors   Price  Seats  Fuel per 100 KM  \\\n",
       "2  toyota   Blue          32549      3  7000.0    5.0              9.0   \n",
       "8  toyota  White          60000      4  6250.0    5.0              6.8   \n",
       "7   honda   Blue          54738      4  7000.0    5.0              8.1   \n",
       "1   honda    Red          87899      4  5000.0    5.0              6.8   \n",
       "9  nissan  White          31600      4  9700.0    5.0              7.7   \n",
       "\n",
       "   Total Fuel used in Litres  Number of wheels  \n",
       "2                   2929.410                 4  \n",
       "8                   4080.000                 4  \n",
       "7                   4433.778                 4  \n",
       "1                   5977.132                 4  \n",
       "9                   2433.200                 4  "
      ]
     },
     "execution_count": 100,
     "metadata": {},
     "output_type": "execute_result"
    }
   ],
   "source": [
    "car_sales.sample(frac=0.5)\n",
    "#shuffling and only selecting 50% of the data"
   ]
  },
  {
   "cell_type": "code",
   "execution_count": 102,
   "id": "f767b637",
   "metadata": {},
   "outputs": [
    {
     "data": {
      "text/html": [
       "<div>\n",
       "<style scoped>\n",
       "    .dataframe tbody tr th:only-of-type {\n",
       "        vertical-align: middle;\n",
       "    }\n",
       "\n",
       "    .dataframe tbody tr th {\n",
       "        vertical-align: top;\n",
       "    }\n",
       "\n",
       "    .dataframe thead th {\n",
       "        text-align: right;\n",
       "    }\n",
       "</style>\n",
       "<table border=\"1\" class=\"dataframe\">\n",
       "  <thead>\n",
       "    <tr style=\"text-align: right;\">\n",
       "      <th></th>\n",
       "      <th>Make</th>\n",
       "      <th>Colour</th>\n",
       "      <th>Odometer (KM)</th>\n",
       "      <th>Doors</th>\n",
       "      <th>Price</th>\n",
       "      <th>Seats</th>\n",
       "      <th>Fuel per 100 KM</th>\n",
       "      <th>Total Fuel used in Litres</th>\n",
       "      <th>Number of wheels</th>\n",
       "    </tr>\n",
       "  </thead>\n",
       "  <tbody>\n",
       "    <tr>\n",
       "      <th>7</th>\n",
       "      <td>honda</td>\n",
       "      <td>Blue</td>\n",
       "      <td>54738</td>\n",
       "      <td>4</td>\n",
       "      <td>7000.0</td>\n",
       "      <td>5.0</td>\n",
       "      <td>8.1</td>\n",
       "      <td>4433.778</td>\n",
       "      <td>4</td>\n",
       "    </tr>\n",
       "    <tr>\n",
       "      <th>8</th>\n",
       "      <td>toyota</td>\n",
       "      <td>White</td>\n",
       "      <td>60000</td>\n",
       "      <td>4</td>\n",
       "      <td>6250.0</td>\n",
       "      <td>5.0</td>\n",
       "      <td>6.8</td>\n",
       "      <td>4080.000</td>\n",
       "      <td>4</td>\n",
       "    </tr>\n",
       "    <tr>\n",
       "      <th>6</th>\n",
       "      <td>honda</td>\n",
       "      <td>Blue</td>\n",
       "      <td>45698</td>\n",
       "      <td>4</td>\n",
       "      <td>7500.0</td>\n",
       "      <td>5.0</td>\n",
       "      <td>9.0</td>\n",
       "      <td>4112.820</td>\n",
       "      <td>4</td>\n",
       "    </tr>\n",
       "    <tr>\n",
       "      <th>1</th>\n",
       "      <td>honda</td>\n",
       "      <td>Red</td>\n",
       "      <td>87899</td>\n",
       "      <td>4</td>\n",
       "      <td>5000.0</td>\n",
       "      <td>5.0</td>\n",
       "      <td>6.8</td>\n",
       "      <td>5977.132</td>\n",
       "      <td>4</td>\n",
       "    </tr>\n",
       "    <tr>\n",
       "      <th>4</th>\n",
       "      <td>nissan</td>\n",
       "      <td>White</td>\n",
       "      <td>213095</td>\n",
       "      <td>4</td>\n",
       "      <td>3500.0</td>\n",
       "      <td>5.0</td>\n",
       "      <td>8.2</td>\n",
       "      <td>17473.790</td>\n",
       "      <td>4</td>\n",
       "    </tr>\n",
       "    <tr>\n",
       "      <th>5</th>\n",
       "      <td>toyota</td>\n",
       "      <td>Green</td>\n",
       "      <td>99213</td>\n",
       "      <td>4</td>\n",
       "      <td>4500.0</td>\n",
       "      <td>5.0</td>\n",
       "      <td>7.9</td>\n",
       "      <td>7837.827</td>\n",
       "      <td>4</td>\n",
       "    </tr>\n",
       "    <tr>\n",
       "      <th>2</th>\n",
       "      <td>toyota</td>\n",
       "      <td>Blue</td>\n",
       "      <td>32549</td>\n",
       "      <td>3</td>\n",
       "      <td>7000.0</td>\n",
       "      <td>5.0</td>\n",
       "      <td>9.0</td>\n",
       "      <td>2929.410</td>\n",
       "      <td>4</td>\n",
       "    </tr>\n",
       "    <tr>\n",
       "      <th>9</th>\n",
       "      <td>nissan</td>\n",
       "      <td>White</td>\n",
       "      <td>31600</td>\n",
       "      <td>4</td>\n",
       "      <td>9700.0</td>\n",
       "      <td>5.0</td>\n",
       "      <td>7.7</td>\n",
       "      <td>2433.200</td>\n",
       "      <td>4</td>\n",
       "    </tr>\n",
       "    <tr>\n",
       "      <th>0</th>\n",
       "      <td>toyota</td>\n",
       "      <td>White</td>\n",
       "      <td>150043</td>\n",
       "      <td>4</td>\n",
       "      <td>4000.0</td>\n",
       "      <td>5.0</td>\n",
       "      <td>7.5</td>\n",
       "      <td>11253.225</td>\n",
       "      <td>4</td>\n",
       "    </tr>\n",
       "    <tr>\n",
       "      <th>3</th>\n",
       "      <td>bmw</td>\n",
       "      <td>Black</td>\n",
       "      <td>11179</td>\n",
       "      <td>5</td>\n",
       "      <td>22000.0</td>\n",
       "      <td>5.0</td>\n",
       "      <td>8.9</td>\n",
       "      <td>994.931</td>\n",
       "      <td>4</td>\n",
       "    </tr>\n",
       "  </tbody>\n",
       "</table>\n",
       "</div>"
      ],
      "text/plain": [
       "     Make Colour  Odometer (KM)  Doors    Price  Seats  Fuel per 100 KM  \\\n",
       "7   honda   Blue          54738      4   7000.0    5.0              8.1   \n",
       "8  toyota  White          60000      4   6250.0    5.0              6.8   \n",
       "6   honda   Blue          45698      4   7500.0    5.0              9.0   \n",
       "1   honda    Red          87899      4   5000.0    5.0              6.8   \n",
       "4  nissan  White         213095      4   3500.0    5.0              8.2   \n",
       "5  toyota  Green          99213      4   4500.0    5.0              7.9   \n",
       "2  toyota   Blue          32549      3   7000.0    5.0              9.0   \n",
       "9  nissan  White          31600      4   9700.0    5.0              7.7   \n",
       "0  toyota  White         150043      4   4000.0    5.0              7.5   \n",
       "3     bmw  Black          11179      5  22000.0    5.0              8.9   \n",
       "\n",
       "   Total Fuel used in Litres  Number of wheels  \n",
       "7                   4433.778                 4  \n",
       "8                   4080.000                 4  \n",
       "6                   4112.820                 4  \n",
       "1                   5977.132                 4  \n",
       "4                  17473.790                 4  \n",
       "5                   7837.827                 4  \n",
       "2                   2929.410                 4  \n",
       "9                   2433.200                 4  \n",
       "0                  11253.225                 4  \n",
       "3                    994.931                 4  "
      ]
     },
     "execution_count": 102,
     "metadata": {},
     "output_type": "execute_result"
    }
   ],
   "source": [
    "car_sales_shuffled = car_sales.sample(frac=1)\n",
    "car_sales_shuffled"
   ]
  },
  {
   "cell_type": "code",
   "execution_count": 103,
   "id": "b87b4028",
   "metadata": {},
   "outputs": [
    {
     "data": {
      "text/html": [
       "<div>\n",
       "<style scoped>\n",
       "    .dataframe tbody tr th:only-of-type {\n",
       "        vertical-align: middle;\n",
       "    }\n",
       "\n",
       "    .dataframe tbody tr th {\n",
       "        vertical-align: top;\n",
       "    }\n",
       "\n",
       "    .dataframe thead th {\n",
       "        text-align: right;\n",
       "    }\n",
       "</style>\n",
       "<table border=\"1\" class=\"dataframe\">\n",
       "  <thead>\n",
       "    <tr style=\"text-align: right;\">\n",
       "      <th></th>\n",
       "      <th>Make</th>\n",
       "      <th>Colour</th>\n",
       "      <th>Odometer (KM)</th>\n",
       "      <th>Doors</th>\n",
       "      <th>Price</th>\n",
       "      <th>Seats</th>\n",
       "      <th>Fuel per 100 KM</th>\n",
       "      <th>Total Fuel used in Litres</th>\n",
       "      <th>Number of wheels</th>\n",
       "    </tr>\n",
       "  </thead>\n",
       "  <tbody>\n",
       "    <tr>\n",
       "      <th>0</th>\n",
       "      <td>honda</td>\n",
       "      <td>Blue</td>\n",
       "      <td>54738</td>\n",
       "      <td>4</td>\n",
       "      <td>7000.0</td>\n",
       "      <td>5.0</td>\n",
       "      <td>8.1</td>\n",
       "      <td>4433.778</td>\n",
       "      <td>4</td>\n",
       "    </tr>\n",
       "    <tr>\n",
       "      <th>1</th>\n",
       "      <td>toyota</td>\n",
       "      <td>White</td>\n",
       "      <td>60000</td>\n",
       "      <td>4</td>\n",
       "      <td>6250.0</td>\n",
       "      <td>5.0</td>\n",
       "      <td>6.8</td>\n",
       "      <td>4080.000</td>\n",
       "      <td>4</td>\n",
       "    </tr>\n",
       "    <tr>\n",
       "      <th>2</th>\n",
       "      <td>honda</td>\n",
       "      <td>Blue</td>\n",
       "      <td>45698</td>\n",
       "      <td>4</td>\n",
       "      <td>7500.0</td>\n",
       "      <td>5.0</td>\n",
       "      <td>9.0</td>\n",
       "      <td>4112.820</td>\n",
       "      <td>4</td>\n",
       "    </tr>\n",
       "    <tr>\n",
       "      <th>3</th>\n",
       "      <td>honda</td>\n",
       "      <td>Red</td>\n",
       "      <td>87899</td>\n",
       "      <td>4</td>\n",
       "      <td>5000.0</td>\n",
       "      <td>5.0</td>\n",
       "      <td>6.8</td>\n",
       "      <td>5977.132</td>\n",
       "      <td>4</td>\n",
       "    </tr>\n",
       "    <tr>\n",
       "      <th>4</th>\n",
       "      <td>nissan</td>\n",
       "      <td>White</td>\n",
       "      <td>213095</td>\n",
       "      <td>4</td>\n",
       "      <td>3500.0</td>\n",
       "      <td>5.0</td>\n",
       "      <td>8.2</td>\n",
       "      <td>17473.790</td>\n",
       "      <td>4</td>\n",
       "    </tr>\n",
       "    <tr>\n",
       "      <th>5</th>\n",
       "      <td>toyota</td>\n",
       "      <td>Green</td>\n",
       "      <td>99213</td>\n",
       "      <td>4</td>\n",
       "      <td>4500.0</td>\n",
       "      <td>5.0</td>\n",
       "      <td>7.9</td>\n",
       "      <td>7837.827</td>\n",
       "      <td>4</td>\n",
       "    </tr>\n",
       "    <tr>\n",
       "      <th>6</th>\n",
       "      <td>toyota</td>\n",
       "      <td>Blue</td>\n",
       "      <td>32549</td>\n",
       "      <td>3</td>\n",
       "      <td>7000.0</td>\n",
       "      <td>5.0</td>\n",
       "      <td>9.0</td>\n",
       "      <td>2929.410</td>\n",
       "      <td>4</td>\n",
       "    </tr>\n",
       "    <tr>\n",
       "      <th>7</th>\n",
       "      <td>nissan</td>\n",
       "      <td>White</td>\n",
       "      <td>31600</td>\n",
       "      <td>4</td>\n",
       "      <td>9700.0</td>\n",
       "      <td>5.0</td>\n",
       "      <td>7.7</td>\n",
       "      <td>2433.200</td>\n",
       "      <td>4</td>\n",
       "    </tr>\n",
       "    <tr>\n",
       "      <th>8</th>\n",
       "      <td>toyota</td>\n",
       "      <td>White</td>\n",
       "      <td>150043</td>\n",
       "      <td>4</td>\n",
       "      <td>4000.0</td>\n",
       "      <td>5.0</td>\n",
       "      <td>7.5</td>\n",
       "      <td>11253.225</td>\n",
       "      <td>4</td>\n",
       "    </tr>\n",
       "    <tr>\n",
       "      <th>9</th>\n",
       "      <td>bmw</td>\n",
       "      <td>Black</td>\n",
       "      <td>11179</td>\n",
       "      <td>5</td>\n",
       "      <td>22000.0</td>\n",
       "      <td>5.0</td>\n",
       "      <td>8.9</td>\n",
       "      <td>994.931</td>\n",
       "      <td>4</td>\n",
       "    </tr>\n",
       "  </tbody>\n",
       "</table>\n",
       "</div>"
      ],
      "text/plain": [
       "     Make Colour  Odometer (KM)  Doors    Price  Seats  Fuel per 100 KM  \\\n",
       "0   honda   Blue          54738      4   7000.0    5.0              8.1   \n",
       "1  toyota  White          60000      4   6250.0    5.0              6.8   \n",
       "2   honda   Blue          45698      4   7500.0    5.0              9.0   \n",
       "3   honda    Red          87899      4   5000.0    5.0              6.8   \n",
       "4  nissan  White         213095      4   3500.0    5.0              8.2   \n",
       "5  toyota  Green          99213      4   4500.0    5.0              7.9   \n",
       "6  toyota   Blue          32549      3   7000.0    5.0              9.0   \n",
       "7  nissan  White          31600      4   9700.0    5.0              7.7   \n",
       "8  toyota  White         150043      4   4000.0    5.0              7.5   \n",
       "9     bmw  Black          11179      5  22000.0    5.0              8.9   \n",
       "\n",
       "   Total Fuel used in Litres  Number of wheels  \n",
       "0                   4433.778                 4  \n",
       "1                   4080.000                 4  \n",
       "2                   4112.820                 4  \n",
       "3                   5977.132                 4  \n",
       "4                  17473.790                 4  \n",
       "5                   7837.827                 4  \n",
       "6                   2929.410                 4  \n",
       "7                   2433.200                 4  \n",
       "8                  11253.225                 4  \n",
       "9                    994.931                 4  "
      ]
     },
     "execution_count": 103,
     "metadata": {},
     "output_type": "execute_result"
    }
   ],
   "source": [
    "car_sales_shuffled.reset_index(drop=True, inplace=True)\n",
    "car_sales_shuffled"
   ]
  },
  {
   "cell_type": "code",
   "execution_count": 105,
   "id": "c3594ae5",
   "metadata": {},
   "outputs": [
    {
     "data": {
      "text/html": [
       "<div>\n",
       "<style scoped>\n",
       "    .dataframe tbody tr th:only-of-type {\n",
       "        vertical-align: middle;\n",
       "    }\n",
       "\n",
       "    .dataframe tbody tr th {\n",
       "        vertical-align: top;\n",
       "    }\n",
       "\n",
       "    .dataframe thead th {\n",
       "        text-align: right;\n",
       "    }\n",
       "</style>\n",
       "<table border=\"1\" class=\"dataframe\">\n",
       "  <thead>\n",
       "    <tr style=\"text-align: right;\">\n",
       "      <th></th>\n",
       "      <th>Make</th>\n",
       "      <th>Colour</th>\n",
       "      <th>Odometer (KM)</th>\n",
       "      <th>Doors</th>\n",
       "      <th>Price</th>\n",
       "      <th>Seats</th>\n",
       "      <th>Fuel per 100 KM</th>\n",
       "      <th>Total Fuel used in Litres</th>\n",
       "      <th>Number of wheels</th>\n",
       "    </tr>\n",
       "  </thead>\n",
       "  <tbody>\n",
       "    <tr>\n",
       "      <th>0</th>\n",
       "      <td>toyota</td>\n",
       "      <td>White</td>\n",
       "      <td>150043</td>\n",
       "      <td>4</td>\n",
       "      <td>4000.0</td>\n",
       "      <td>5.0</td>\n",
       "      <td>7.5</td>\n",
       "      <td>11253.225</td>\n",
       "      <td>4</td>\n",
       "    </tr>\n",
       "    <tr>\n",
       "      <th>1</th>\n",
       "      <td>honda</td>\n",
       "      <td>Red</td>\n",
       "      <td>87899</td>\n",
       "      <td>4</td>\n",
       "      <td>5000.0</td>\n",
       "      <td>5.0</td>\n",
       "      <td>6.8</td>\n",
       "      <td>5977.132</td>\n",
       "      <td>4</td>\n",
       "    </tr>\n",
       "    <tr>\n",
       "      <th>2</th>\n",
       "      <td>toyota</td>\n",
       "      <td>Blue</td>\n",
       "      <td>32549</td>\n",
       "      <td>3</td>\n",
       "      <td>7000.0</td>\n",
       "      <td>5.0</td>\n",
       "      <td>9.0</td>\n",
       "      <td>2929.410</td>\n",
       "      <td>4</td>\n",
       "    </tr>\n",
       "    <tr>\n",
       "      <th>3</th>\n",
       "      <td>bmw</td>\n",
       "      <td>Black</td>\n",
       "      <td>11179</td>\n",
       "      <td>5</td>\n",
       "      <td>22000.0</td>\n",
       "      <td>5.0</td>\n",
       "      <td>8.9</td>\n",
       "      <td>994.931</td>\n",
       "      <td>4</td>\n",
       "    </tr>\n",
       "    <tr>\n",
       "      <th>4</th>\n",
       "      <td>nissan</td>\n",
       "      <td>White</td>\n",
       "      <td>213095</td>\n",
       "      <td>4</td>\n",
       "      <td>3500.0</td>\n",
       "      <td>5.0</td>\n",
       "      <td>8.2</td>\n",
       "      <td>17473.790</td>\n",
       "      <td>4</td>\n",
       "    </tr>\n",
       "    <tr>\n",
       "      <th>5</th>\n",
       "      <td>toyota</td>\n",
       "      <td>Green</td>\n",
       "      <td>99213</td>\n",
       "      <td>4</td>\n",
       "      <td>4500.0</td>\n",
       "      <td>5.0</td>\n",
       "      <td>7.9</td>\n",
       "      <td>7837.827</td>\n",
       "      <td>4</td>\n",
       "    </tr>\n",
       "    <tr>\n",
       "      <th>6</th>\n",
       "      <td>honda</td>\n",
       "      <td>Blue</td>\n",
       "      <td>45698</td>\n",
       "      <td>4</td>\n",
       "      <td>7500.0</td>\n",
       "      <td>5.0</td>\n",
       "      <td>9.0</td>\n",
       "      <td>4112.820</td>\n",
       "      <td>4</td>\n",
       "    </tr>\n",
       "    <tr>\n",
       "      <th>7</th>\n",
       "      <td>honda</td>\n",
       "      <td>Blue</td>\n",
       "      <td>54738</td>\n",
       "      <td>4</td>\n",
       "      <td>7000.0</td>\n",
       "      <td>5.0</td>\n",
       "      <td>8.1</td>\n",
       "      <td>4433.778</td>\n",
       "      <td>4</td>\n",
       "    </tr>\n",
       "    <tr>\n",
       "      <th>8</th>\n",
       "      <td>toyota</td>\n",
       "      <td>White</td>\n",
       "      <td>60000</td>\n",
       "      <td>4</td>\n",
       "      <td>6250.0</td>\n",
       "      <td>5.0</td>\n",
       "      <td>6.8</td>\n",
       "      <td>4080.000</td>\n",
       "      <td>4</td>\n",
       "    </tr>\n",
       "    <tr>\n",
       "      <th>9</th>\n",
       "      <td>nissan</td>\n",
       "      <td>White</td>\n",
       "      <td>31600</td>\n",
       "      <td>4</td>\n",
       "      <td>9700.0</td>\n",
       "      <td>5.0</td>\n",
       "      <td>7.7</td>\n",
       "      <td>2433.200</td>\n",
       "      <td>4</td>\n",
       "    </tr>\n",
       "  </tbody>\n",
       "</table>\n",
       "</div>"
      ],
      "text/plain": [
       "     Make Colour  Odometer (KM)  Doors    Price  Seats  Fuel per 100 KM  \\\n",
       "0  toyota  White         150043      4   4000.0    5.0              7.5   \n",
       "1   honda    Red          87899      4   5000.0    5.0              6.8   \n",
       "2  toyota   Blue          32549      3   7000.0    5.0              9.0   \n",
       "3     bmw  Black          11179      5  22000.0    5.0              8.9   \n",
       "4  nissan  White         213095      4   3500.0    5.0              8.2   \n",
       "5  toyota  Green          99213      4   4500.0    5.0              7.9   \n",
       "6   honda   Blue          45698      4   7500.0    5.0              9.0   \n",
       "7   honda   Blue          54738      4   7000.0    5.0              8.1   \n",
       "8  toyota  White          60000      4   6250.0    5.0              6.8   \n",
       "9  nissan  White          31600      4   9700.0    5.0              7.7   \n",
       "\n",
       "   Total Fuel used in Litres  Number of wheels  \n",
       "0                  11253.225                 4  \n",
       "1                   5977.132                 4  \n",
       "2                   2929.410                 4  \n",
       "3                    994.931                 4  \n",
       "4                  17473.790                 4  \n",
       "5                   7837.827                 4  \n",
       "6                   4112.820                 4  \n",
       "7                   4433.778                 4  \n",
       "8                   4080.000                 4  \n",
       "9                   2433.200                 4  "
      ]
     },
     "execution_count": 105,
     "metadata": {},
     "output_type": "execute_result"
    }
   ],
   "source": [
    "car_sales"
   ]
  },
  {
   "cell_type": "markdown",
   "id": "522aa91e",
   "metadata": {},
   "source": [
    "### Performing functions directly on the columns\n",
    "apply() is a way you can perform functions on columns <br>\n",
    "lambda is a function, it takes x and returns x/1.6"
   ]
  },
  {
   "cell_type": "code",
   "execution_count": 106,
   "id": "1b008c81",
   "metadata": {},
   "outputs": [],
   "source": [
    "car_sales[\"Odometer(Miles)\"] = car_sales[\"Odometer (KM)\"].apply(lambda x:x/1.6)"
   ]
  },
  {
   "cell_type": "code",
   "execution_count": 107,
   "id": "732c0256",
   "metadata": {},
   "outputs": [
    {
     "data": {
      "text/html": [
       "<div>\n",
       "<style scoped>\n",
       "    .dataframe tbody tr th:only-of-type {\n",
       "        vertical-align: middle;\n",
       "    }\n",
       "\n",
       "    .dataframe tbody tr th {\n",
       "        vertical-align: top;\n",
       "    }\n",
       "\n",
       "    .dataframe thead th {\n",
       "        text-align: right;\n",
       "    }\n",
       "</style>\n",
       "<table border=\"1\" class=\"dataframe\">\n",
       "  <thead>\n",
       "    <tr style=\"text-align: right;\">\n",
       "      <th></th>\n",
       "      <th>Make</th>\n",
       "      <th>Colour</th>\n",
       "      <th>Odometer (KM)</th>\n",
       "      <th>Doors</th>\n",
       "      <th>Price</th>\n",
       "      <th>Seats</th>\n",
       "      <th>Fuel per 100 KM</th>\n",
       "      <th>Total Fuel used in Litres</th>\n",
       "      <th>Number of wheels</th>\n",
       "      <th>Odometer(Miles)</th>\n",
       "    </tr>\n",
       "  </thead>\n",
       "  <tbody>\n",
       "    <tr>\n",
       "      <th>0</th>\n",
       "      <td>toyota</td>\n",
       "      <td>White</td>\n",
       "      <td>150043</td>\n",
       "      <td>4</td>\n",
       "      <td>4000.0</td>\n",
       "      <td>5.0</td>\n",
       "      <td>7.5</td>\n",
       "      <td>11253.225</td>\n",
       "      <td>4</td>\n",
       "      <td>93776.875</td>\n",
       "    </tr>\n",
       "    <tr>\n",
       "      <th>1</th>\n",
       "      <td>honda</td>\n",
       "      <td>Red</td>\n",
       "      <td>87899</td>\n",
       "      <td>4</td>\n",
       "      <td>5000.0</td>\n",
       "      <td>5.0</td>\n",
       "      <td>6.8</td>\n",
       "      <td>5977.132</td>\n",
       "      <td>4</td>\n",
       "      <td>54936.875</td>\n",
       "    </tr>\n",
       "    <tr>\n",
       "      <th>2</th>\n",
       "      <td>toyota</td>\n",
       "      <td>Blue</td>\n",
       "      <td>32549</td>\n",
       "      <td>3</td>\n",
       "      <td>7000.0</td>\n",
       "      <td>5.0</td>\n",
       "      <td>9.0</td>\n",
       "      <td>2929.410</td>\n",
       "      <td>4</td>\n",
       "      <td>20343.125</td>\n",
       "    </tr>\n",
       "    <tr>\n",
       "      <th>3</th>\n",
       "      <td>bmw</td>\n",
       "      <td>Black</td>\n",
       "      <td>11179</td>\n",
       "      <td>5</td>\n",
       "      <td>22000.0</td>\n",
       "      <td>5.0</td>\n",
       "      <td>8.9</td>\n",
       "      <td>994.931</td>\n",
       "      <td>4</td>\n",
       "      <td>6986.875</td>\n",
       "    </tr>\n",
       "    <tr>\n",
       "      <th>4</th>\n",
       "      <td>nissan</td>\n",
       "      <td>White</td>\n",
       "      <td>213095</td>\n",
       "      <td>4</td>\n",
       "      <td>3500.0</td>\n",
       "      <td>5.0</td>\n",
       "      <td>8.2</td>\n",
       "      <td>17473.790</td>\n",
       "      <td>4</td>\n",
       "      <td>133184.375</td>\n",
       "    </tr>\n",
       "    <tr>\n",
       "      <th>5</th>\n",
       "      <td>toyota</td>\n",
       "      <td>Green</td>\n",
       "      <td>99213</td>\n",
       "      <td>4</td>\n",
       "      <td>4500.0</td>\n",
       "      <td>5.0</td>\n",
       "      <td>7.9</td>\n",
       "      <td>7837.827</td>\n",
       "      <td>4</td>\n",
       "      <td>62008.125</td>\n",
       "    </tr>\n",
       "    <tr>\n",
       "      <th>6</th>\n",
       "      <td>honda</td>\n",
       "      <td>Blue</td>\n",
       "      <td>45698</td>\n",
       "      <td>4</td>\n",
       "      <td>7500.0</td>\n",
       "      <td>5.0</td>\n",
       "      <td>9.0</td>\n",
       "      <td>4112.820</td>\n",
       "      <td>4</td>\n",
       "      <td>28561.250</td>\n",
       "    </tr>\n",
       "    <tr>\n",
       "      <th>7</th>\n",
       "      <td>honda</td>\n",
       "      <td>Blue</td>\n",
       "      <td>54738</td>\n",
       "      <td>4</td>\n",
       "      <td>7000.0</td>\n",
       "      <td>5.0</td>\n",
       "      <td>8.1</td>\n",
       "      <td>4433.778</td>\n",
       "      <td>4</td>\n",
       "      <td>34211.250</td>\n",
       "    </tr>\n",
       "    <tr>\n",
       "      <th>8</th>\n",
       "      <td>toyota</td>\n",
       "      <td>White</td>\n",
       "      <td>60000</td>\n",
       "      <td>4</td>\n",
       "      <td>6250.0</td>\n",
       "      <td>5.0</td>\n",
       "      <td>6.8</td>\n",
       "      <td>4080.000</td>\n",
       "      <td>4</td>\n",
       "      <td>37500.000</td>\n",
       "    </tr>\n",
       "    <tr>\n",
       "      <th>9</th>\n",
       "      <td>nissan</td>\n",
       "      <td>White</td>\n",
       "      <td>31600</td>\n",
       "      <td>4</td>\n",
       "      <td>9700.0</td>\n",
       "      <td>5.0</td>\n",
       "      <td>7.7</td>\n",
       "      <td>2433.200</td>\n",
       "      <td>4</td>\n",
       "      <td>19750.000</td>\n",
       "    </tr>\n",
       "  </tbody>\n",
       "</table>\n",
       "</div>"
      ],
      "text/plain": [
       "     Make Colour  Odometer (KM)  Doors    Price  Seats  Fuel per 100 KM  \\\n",
       "0  toyota  White         150043      4   4000.0    5.0              7.5   \n",
       "1   honda    Red          87899      4   5000.0    5.0              6.8   \n",
       "2  toyota   Blue          32549      3   7000.0    5.0              9.0   \n",
       "3     bmw  Black          11179      5  22000.0    5.0              8.9   \n",
       "4  nissan  White         213095      4   3500.0    5.0              8.2   \n",
       "5  toyota  Green          99213      4   4500.0    5.0              7.9   \n",
       "6   honda   Blue          45698      4   7500.0    5.0              9.0   \n",
       "7   honda   Blue          54738      4   7000.0    5.0              8.1   \n",
       "8  toyota  White          60000      4   6250.0    5.0              6.8   \n",
       "9  nissan  White          31600      4   9700.0    5.0              7.7   \n",
       "\n",
       "   Total Fuel used in Litres  Number of wheels  Odometer(Miles)  \n",
       "0                  11253.225                 4        93776.875  \n",
       "1                   5977.132                 4        54936.875  \n",
       "2                   2929.410                 4        20343.125  \n",
       "3                    994.931                 4         6986.875  \n",
       "4                  17473.790                 4       133184.375  \n",
       "5                   7837.827                 4        62008.125  \n",
       "6                   4112.820                 4        28561.250  \n",
       "7                   4433.778                 4        34211.250  \n",
       "8                   4080.000                 4        37500.000  \n",
       "9                   2433.200                 4        19750.000  "
      ]
     },
     "execution_count": 107,
     "metadata": {},
     "output_type": "execute_result"
    }
   ],
   "source": [
    "car_sales"
   ]
  }
 ],
 "metadata": {
  "kernelspec": {
   "display_name": "Python 3 (ipykernel)",
   "language": "python",
   "name": "python3"
  },
  "language_info": {
   "codemirror_mode": {
    "name": "ipython",
    "version": 3
   },
   "file_extension": ".py",
   "mimetype": "text/x-python",
   "name": "python",
   "nbconvert_exporter": "python",
   "pygments_lexer": "ipython3",
   "version": "3.9.12"
  }
 },
 "nbformat": 4,
 "nbformat_minor": 5
}
